{
 "cells": [
  {
   "cell_type": "markdown",
   "metadata": {},
   "source": [
    "# Desafio\n",
    "Dataset com 7121 formulas de medicamentos manipulados.  \n",
    "O objetivo do teste é prever o valor da coluna \"correto\" com menor erro possível a partir das outras informações do dataset.  \n",
    "dos 7121 pontos de dados, pode-se usar no máximo os primeiros 5121 dados do dataset para prever os últimos 2000  \n",
    "---"
   ]
  },
  {
   "cell_type": "code",
   "execution_count": 4,
   "metadata": {},
   "outputs": [],
   "source": [
    "import pandas as pd\n",
    "import numpy as np\n",
    "import seaborn as sns\n",
    "import matplotlib.pyplot as plt\n",
    "import re\n",
    "from collections import Counter\n",
    "import sklearn"
   ]
  },
  {
   "cell_type": "markdown",
   "metadata": {},
   "source": [
    "## Load Data"
   ]
  },
  {
   "cell_type": "code",
   "execution_count": 89,
   "metadata": {},
   "outputs": [],
   "source": [
    "# Carrega o dataset\n",
    "df = pd.read_csv('https://raw.githubusercontent.com/manipulaeHealth/desafio-machine-learning/main/dados_preco.csv')"
   ]
  },
  {
   "cell_type": "code",
   "execution_count": 90,
   "metadata": {},
   "outputs": [
    {
     "name": "stdout",
     "output_type": "stream",
     "text": [
      "<class 'pandas.core.frame.DataFrame'>\n",
      "RangeIndex: 7121 entries, 0 to 7120\n",
      "Data columns (total 5 columns):\n",
      " #   Column      Non-Null Count  Dtype  \n",
      "---  ------      --------------  -----  \n",
      " 0   descricao   7121 non-null   object \n",
      " 1   criado      7121 non-null   object \n",
      " 2   qtdInsumos  7121 non-null   int64  \n",
      " 3   calculado   7121 non-null   float64\n",
      " 4   correto     7121 non-null   float64\n",
      "dtypes: float64(2), int64(1), object(2)\n",
      "memory usage: 278.3+ KB\n"
     ]
    }
   ],
   "source": [
    "df.info()"
   ]
  },
  {
   "cell_type": "markdown",
   "metadata": {},
   "source": [
    "## Transformação e limpza dos dados"
   ]
  },
  {
   "cell_type": "code",
   "execution_count": 91,
   "metadata": {},
   "outputs": [],
   "source": [
    "df['criado'] = pd.to_datetime(df.criado)"
   ]
  },
  {
   "cell_type": "code",
   "execution_count": 92,
   "metadata": {},
   "outputs": [],
   "source": [
    "df['cap'] = [int(x[0]) for x in df.descricao.str.split(' ', 1)]"
   ]
  },
  {
   "cell_type": "code",
   "execution_count": 93,
   "metadata": {},
   "outputs": [],
   "source": [
    "df['ins'] = [x[1] for x in df.descricao.str.split('|')]"
   ]
  },
  {
   "cell_type": "code",
   "execution_count": 94,
   "metadata": {},
   "outputs": [],
   "source": [
    "df_ins = df['ins'].apply(lambda x: x.split(';')).apply(pd.Series)"
   ]
  },
  {
   "cell_type": "code",
   "execution_count": 95,
   "metadata": {},
   "outputs": [],
   "source": [
    "df_ins = df_ins.rename(columns = lambda x: 'ins_' + str(x))"
   ]
  },
  {
   "cell_type": "code",
   "execution_count": 96,
   "metadata": {},
   "outputs": [
    {
     "data": {
      "text/html": [
       "<div>\n",
       "<style scoped>\n",
       "    .dataframe tbody tr th:only-of-type {\n",
       "        vertical-align: middle;\n",
       "    }\n",
       "\n",
       "    .dataframe tbody tr th {\n",
       "        vertical-align: top;\n",
       "    }\n",
       "\n",
       "    .dataframe thead th {\n",
       "        text-align: right;\n",
       "    }\n",
       "</style>\n",
       "<table border=\"1\" class=\"dataframe\">\n",
       "  <thead>\n",
       "    <tr style=\"text-align: right;\">\n",
       "      <th></th>\n",
       "      <th>descricao</th>\n",
       "      <th>criado</th>\n",
       "      <th>qtdInsumos</th>\n",
       "      <th>calculado</th>\n",
       "      <th>correto</th>\n",
       "      <th>cap</th>\n",
       "      <th>ins</th>\n",
       "    </tr>\n",
       "  </thead>\n",
       "  <tbody>\n",
       "    <tr>\n",
       "      <th>0</th>\n",
       "      <td>30 CAP | BUPROPIONA CLORIDRATO  150MG</td>\n",
       "      <td>2020-08-05 23:19:09</td>\n",
       "      <td>1</td>\n",
       "      <td>47.5297</td>\n",
       "      <td>39.9</td>\n",
       "      <td>30</td>\n",
       "      <td>BUPROPIONA CLORIDRATO  150MG</td>\n",
       "    </tr>\n",
       "    <tr>\n",
       "      <th>1</th>\n",
       "      <td>60 CAP | FINASTERIDA 1:10  1MG</td>\n",
       "      <td>2020-08-05 22:51:09</td>\n",
       "      <td>1</td>\n",
       "      <td>46.9620</td>\n",
       "      <td>43.6</td>\n",
       "      <td>60</td>\n",
       "      <td>FINASTERIDA 1:10  1MG</td>\n",
       "    </tr>\n",
       "    <tr>\n",
       "      <th>2</th>\n",
       "      <td>60 CAP | NAC  250MG; SILIMARINA  150MG; SAME  ...</td>\n",
       "      <td>2020-08-05 22:51:09</td>\n",
       "      <td>3</td>\n",
       "      <td>105.1390</td>\n",
       "      <td>111.4</td>\n",
       "      <td>60</td>\n",
       "      <td>NAC  250MG; SILIMARINA  150MG; SAME  50MG</td>\n",
       "    </tr>\n",
       "    <tr>\n",
       "      <th>3</th>\n",
       "      <td>60 CAP | ANASTROZOL 1:10 0.300MG</td>\n",
       "      <td>2020-08-05 22:51:09</td>\n",
       "      <td>1</td>\n",
       "      <td>49.0314</td>\n",
       "      <td>43.6</td>\n",
       "      <td>60</td>\n",
       "      <td>ANASTROZOL 1:10 0.300MG</td>\n",
       "    </tr>\n",
       "    <tr>\n",
       "      <th>4</th>\n",
       "      <td>120 CAP | DUTASTERIDA 0.250MG; TADALAFIL  10MG</td>\n",
       "      <td>2020-08-05 22:49:09</td>\n",
       "      <td>2</td>\n",
       "      <td>161.8272</td>\n",
       "      <td>146.0</td>\n",
       "      <td>120</td>\n",
       "      <td>DUTASTERIDA 0.250MG; TADALAFIL  10MG</td>\n",
       "    </tr>\n",
       "    <tr>\n",
       "      <th>...</th>\n",
       "      <td>...</td>\n",
       "      <td>...</td>\n",
       "      <td>...</td>\n",
       "      <td>...</td>\n",
       "      <td>...</td>\n",
       "      <td>...</td>\n",
       "      <td>...</td>\n",
       "    </tr>\n",
       "    <tr>\n",
       "      <th>7116</th>\n",
       "      <td>45 CAP | SERTRALINA CLORIDRATO  40MG; SLENDEST...</td>\n",
       "      <td>2020-07-09 17:33:11</td>\n",
       "      <td>12</td>\n",
       "      <td>188.5325</td>\n",
       "      <td>181.8</td>\n",
       "      <td>45</td>\n",
       "      <td>SERTRALINA CLORIDRATO  40MG; SLENDESTA  75MG;...</td>\n",
       "    </tr>\n",
       "    <tr>\n",
       "      <th>7117</th>\n",
       "      <td>120 CAP | GREENSELECT  120MG</td>\n",
       "      <td>2020-07-09 17:24:09</td>\n",
       "      <td>1</td>\n",
       "      <td>377.6529</td>\n",
       "      <td>346.6</td>\n",
       "      <td>120</td>\n",
       "      <td>GREENSELECT  120MG</td>\n",
       "    </tr>\n",
       "    <tr>\n",
       "      <th>7118</th>\n",
       "      <td>60 CAP | MAGNESIO QUELADO 30%  220MG; SELENIO ...</td>\n",
       "      <td>2020-07-09 17:23:10</td>\n",
       "      <td>11</td>\n",
       "      <td>166.2868</td>\n",
       "      <td>157.2</td>\n",
       "      <td>60</td>\n",
       "      <td>MAGNESIO QUELADO 30%  220MG; SELENIO QUELADO ...</td>\n",
       "    </tr>\n",
       "    <tr>\n",
       "      <th>7119</th>\n",
       "      <td>30 CAP | VALERIANA  50MG; PASSIFLORA  500MG; C...</td>\n",
       "      <td>2020-07-09 17:22:09</td>\n",
       "      <td>3</td>\n",
       "      <td>60.1646</td>\n",
       "      <td>68.1</td>\n",
       "      <td>30</td>\n",
       "      <td>VALERIANA  50MG; PASSIFLORA  500MG; CAMOMILA ...</td>\n",
       "    </tr>\n",
       "    <tr>\n",
       "      <th>7120</th>\n",
       "      <td>60 CAP | ACIDO TRANEXAMICO  200MG; BIOTINA 2.5...</td>\n",
       "      <td>2020-07-09 17:14:09</td>\n",
       "      <td>2</td>\n",
       "      <td>107.0370</td>\n",
       "      <td>95.3</td>\n",
       "      <td>60</td>\n",
       "      <td>ACIDO TRANEXAMICO  200MG; BIOTINA 2.500MG</td>\n",
       "    </tr>\n",
       "  </tbody>\n",
       "</table>\n",
       "<p>7121 rows × 7 columns</p>\n",
       "</div>"
      ],
      "text/plain": [
       "                                              descricao              criado  \\\n",
       "0                 30 CAP | BUPROPIONA CLORIDRATO  150MG 2020-08-05 23:19:09   \n",
       "1                        60 CAP | FINASTERIDA 1:10  1MG 2020-08-05 22:51:09   \n",
       "2     60 CAP | NAC  250MG; SILIMARINA  150MG; SAME  ... 2020-08-05 22:51:09   \n",
       "3                      60 CAP | ANASTROZOL 1:10 0.300MG 2020-08-05 22:51:09   \n",
       "4        120 CAP | DUTASTERIDA 0.250MG; TADALAFIL  10MG 2020-08-05 22:49:09   \n",
       "...                                                 ...                 ...   \n",
       "7116  45 CAP | SERTRALINA CLORIDRATO  40MG; SLENDEST... 2020-07-09 17:33:11   \n",
       "7117                       120 CAP | GREENSELECT  120MG 2020-07-09 17:24:09   \n",
       "7118  60 CAP | MAGNESIO QUELADO 30%  220MG; SELENIO ... 2020-07-09 17:23:10   \n",
       "7119  30 CAP | VALERIANA  50MG; PASSIFLORA  500MG; C... 2020-07-09 17:22:09   \n",
       "7120  60 CAP | ACIDO TRANEXAMICO  200MG; BIOTINA 2.5... 2020-07-09 17:14:09   \n",
       "\n",
       "      qtdInsumos  calculado  correto  cap  \\\n",
       "0              1    47.5297     39.9   30   \n",
       "1              1    46.9620     43.6   60   \n",
       "2              3   105.1390    111.4   60   \n",
       "3              1    49.0314     43.6   60   \n",
       "4              2   161.8272    146.0  120   \n",
       "...          ...        ...      ...  ...   \n",
       "7116          12   188.5325    181.8   45   \n",
       "7117           1   377.6529    346.6  120   \n",
       "7118          11   166.2868    157.2   60   \n",
       "7119           3    60.1646     68.1   30   \n",
       "7120           2   107.0370     95.3   60   \n",
       "\n",
       "                                                    ins  \n",
       "0                          BUPROPIONA CLORIDRATO  150MG  \n",
       "1                                 FINASTERIDA 1:10  1MG  \n",
       "2             NAC  250MG; SILIMARINA  150MG; SAME  50MG  \n",
       "3                               ANASTROZOL 1:10 0.300MG  \n",
       "4                  DUTASTERIDA 0.250MG; TADALAFIL  10MG  \n",
       "...                                                 ...  \n",
       "7116   SERTRALINA CLORIDRATO  40MG; SLENDESTA  75MG;...  \n",
       "7117                                 GREENSELECT  120MG  \n",
       "7118   MAGNESIO QUELADO 30%  220MG; SELENIO QUELADO ...  \n",
       "7119   VALERIANA  50MG; PASSIFLORA  500MG; CAMOMILA ...  \n",
       "7120          ACIDO TRANEXAMICO  200MG; BIOTINA 2.500MG  \n",
       "\n",
       "[7121 rows x 7 columns]"
      ]
     },
     "execution_count": 96,
     "metadata": {},
     "output_type": "execute_result"
    }
   ],
   "source": [
    "df"
   ]
  },
  {
   "cell_type": "code",
   "execution_count": 97,
   "metadata": {},
   "outputs": [
    {
     "name": "stdout",
     "output_type": "stream",
     "text": [
      "<class 'pandas.core.frame.DataFrame'>\n",
      "RangeIndex: 7121 entries, 0 to 7120\n",
      "Data columns (total 7 columns):\n",
      " #   Column      Non-Null Count  Dtype         \n",
      "---  ------      --------------  -----         \n",
      " 0   descricao   7121 non-null   object        \n",
      " 1   criado      7121 non-null   datetime64[ns]\n",
      " 2   qtdInsumos  7121 non-null   int64         \n",
      " 3   calculado   7121 non-null   float64       \n",
      " 4   correto     7121 non-null   float64       \n",
      " 5   cap         7121 non-null   int64         \n",
      " 6   ins         7121 non-null   object        \n",
      "dtypes: datetime64[ns](1), float64(2), int64(2), object(2)\n",
      "memory usage: 389.6+ KB\n"
     ]
    }
   ],
   "source": [
    "df.info()"
   ]
  },
  {
   "cell_type": "markdown",
   "metadata": {},
   "source": [
    "## Análise Exploratória 1\n",
    "### Existe correlação entre a data e o preço?"
   ]
  },
  {
   "cell_type": "code",
   "execution_count": 98,
   "metadata": {},
   "outputs": [],
   "source": [
    "df1 = df.copy()"
   ]
  },
  {
   "cell_type": "code",
   "execution_count": 99,
   "metadata": {},
   "outputs": [],
   "source": [
    "df1['mes'] = df1.criado.dt.month\n",
    "df1['dia'] = df1.criado.dt.day\n",
    "df1['hora'] = df1.criado.dt.hour"
   ]
  },
  {
   "cell_type": "code",
   "execution_count": 100,
   "metadata": {},
   "outputs": [
    {
     "data": {
      "image/png": "[encoded data removed]",
      "text/plain": [
       "<Figure size 432x288 with 2 Axes>"
      ]
     },
     "metadata": {
      "needs_background": "light"
     },
     "output_type": "display_data"
    }
   ],
   "source": [
    "cmap = sns.diverging_palette(230, 20, as_cmap=True)\n",
    "\n",
    "sns.heatmap(df1[['mes', 'dia', 'hora', 'correto']].corr(), vmax=1, vmin=-1, cmap=cmap);"
   ]
  },
  {
   "cell_type": "markdown",
   "metadata": {},
   "source": [
    "**Não há correlação significativa para considerar a coluna com a timestamp de criação da fórmula**"
   ]
  },
  {
   "cell_type": "code",
   "execution_count": 101,
   "metadata": {},
   "outputs": [],
   "source": [
    "df.drop('criado', axis=1, inplace=True)"
   ]
  },
  {
   "cell_type": "markdown",
   "metadata": {},
   "source": [
    "## Transformação e limpza dos dados (parte 2)\n",
    "Extração dos insumos e respectivas quantidades"
   ]
  },
  {
   "cell_type": "code",
   "execution_count": 73,
   "metadata": {},
   "outputs": [
    {
     "data": {
      "text/html": [
       "<div>\n",
       "<style scoped>\n",
       "    .dataframe tbody tr th:only-of-type {\n",
       "        vertical-align: middle;\n",
       "    }\n",
       "\n",
       "    .dataframe tbody tr th {\n",
       "        vertical-align: top;\n",
       "    }\n",
       "\n",
       "    .dataframe thead th {\n",
       "        text-align: right;\n",
       "    }\n",
       "</style>\n",
       "<table border=\"1\" class=\"dataframe\">\n",
       "  <thead>\n",
       "    <tr style=\"text-align: right;\">\n",
       "      <th></th>\n",
       "      <th>descricao</th>\n",
       "      <th>qtdInsumos</th>\n",
       "      <th>calculado</th>\n",
       "      <th>correto</th>\n",
       "      <th>cap</th>\n",
       "      <th>ins</th>\n",
       "    </tr>\n",
       "  </thead>\n",
       "  <tbody>\n",
       "    <tr>\n",
       "      <th>0</th>\n",
       "      <td>30 CAP | BUPROPIONA CLORIDRATO  150MG</td>\n",
       "      <td>1</td>\n",
       "      <td>47.5297</td>\n",
       "      <td>39.9</td>\n",
       "      <td>30</td>\n",
       "      <td>BUPROPIONA CLORIDRATO  150MG</td>\n",
       "    </tr>\n",
       "    <tr>\n",
       "      <th>1</th>\n",
       "      <td>60 CAP | FINASTERIDA 1:10  1MG</td>\n",
       "      <td>1</td>\n",
       "      <td>46.9620</td>\n",
       "      <td>43.6</td>\n",
       "      <td>60</td>\n",
       "      <td>FINASTERIDA 1:10  1MG</td>\n",
       "    </tr>\n",
       "    <tr>\n",
       "      <th>2</th>\n",
       "      <td>60 CAP | NAC  250MG; SILIMARINA  150MG; SAME  ...</td>\n",
       "      <td>3</td>\n",
       "      <td>105.1390</td>\n",
       "      <td>111.4</td>\n",
       "      <td>60</td>\n",
       "      <td>NAC  250MG; SILIMARINA  150MG; SAME  50MG</td>\n",
       "    </tr>\n",
       "    <tr>\n",
       "      <th>3</th>\n",
       "      <td>60 CAP | ANASTROZOL 1:10 0.300MG</td>\n",
       "      <td>1</td>\n",
       "      <td>49.0314</td>\n",
       "      <td>43.6</td>\n",
       "      <td>60</td>\n",
       "      <td>ANASTROZOL 1:10 0.300MG</td>\n",
       "    </tr>\n",
       "    <tr>\n",
       "      <th>4</th>\n",
       "      <td>120 CAP | DUTASTERIDA 0.250MG; TADALAFIL  10MG</td>\n",
       "      <td>2</td>\n",
       "      <td>161.8272</td>\n",
       "      <td>146.0</td>\n",
       "      <td>120</td>\n",
       "      <td>DUTASTERIDA 0.250MG; TADALAFIL  10MG</td>\n",
       "    </tr>\n",
       "    <tr>\n",
       "      <th>...</th>\n",
       "      <td>...</td>\n",
       "      <td>...</td>\n",
       "      <td>...</td>\n",
       "      <td>...</td>\n",
       "      <td>...</td>\n",
       "      <td>...</td>\n",
       "    </tr>\n",
       "    <tr>\n",
       "      <th>7116</th>\n",
       "      <td>45 CAP | SERTRALINA CLORIDRATO  40MG; SLENDEST...</td>\n",
       "      <td>12</td>\n",
       "      <td>188.5325</td>\n",
       "      <td>181.8</td>\n",
       "      <td>45</td>\n",
       "      <td>SERTRALINA CLORIDRATO  40MG; SLENDESTA  75MG;...</td>\n",
       "    </tr>\n",
       "    <tr>\n",
       "      <th>7117</th>\n",
       "      <td>120 CAP | GREENSELECT  120MG</td>\n",
       "      <td>1</td>\n",
       "      <td>377.6529</td>\n",
       "      <td>346.6</td>\n",
       "      <td>120</td>\n",
       "      <td>GREENSELECT  120MG</td>\n",
       "    </tr>\n",
       "    <tr>\n",
       "      <th>7118</th>\n",
       "      <td>60 CAP | MAGNESIO QUELADO 30%  220MG; SELENIO ...</td>\n",
       "      <td>11</td>\n",
       "      <td>166.2868</td>\n",
       "      <td>157.2</td>\n",
       "      <td>60</td>\n",
       "      <td>MAGNESIO QUELADO 30%  220MG; SELENIO QUELADO ...</td>\n",
       "    </tr>\n",
       "    <tr>\n",
       "      <th>7119</th>\n",
       "      <td>30 CAP | VALERIANA  50MG; PASSIFLORA  500MG; C...</td>\n",
       "      <td>3</td>\n",
       "      <td>60.1646</td>\n",
       "      <td>68.1</td>\n",
       "      <td>30</td>\n",
       "      <td>VALERIANA  50MG; PASSIFLORA  500MG; CAMOMILA ...</td>\n",
       "    </tr>\n",
       "    <tr>\n",
       "      <th>7120</th>\n",
       "      <td>60 CAP | ACIDO TRANEXAMICO  200MG; BIOTINA 2.5...</td>\n",
       "      <td>2</td>\n",
       "      <td>107.0370</td>\n",
       "      <td>95.3</td>\n",
       "      <td>60</td>\n",
       "      <td>ACIDO TRANEXAMICO  200MG; BIOTINA 2.500MG</td>\n",
       "    </tr>\n",
       "  </tbody>\n",
       "</table>\n",
       "<p>7121 rows × 6 columns</p>\n",
       "</div>"
      ],
      "text/plain": [
       "                                              descricao  qtdInsumos  \\\n",
       "0                 30 CAP | BUPROPIONA CLORIDRATO  150MG           1   \n",
       "1                        60 CAP | FINASTERIDA 1:10  1MG           1   \n",
       "2     60 CAP | NAC  250MG; SILIMARINA  150MG; SAME  ...           3   \n",
       "3                      60 CAP | ANASTROZOL 1:10 0.300MG           1   \n",
       "4        120 CAP | DUTASTERIDA 0.250MG; TADALAFIL  10MG           2   \n",
       "...                                                 ...         ...   \n",
       "7116  45 CAP | SERTRALINA CLORIDRATO  40MG; SLENDEST...          12   \n",
       "7117                       120 CAP | GREENSELECT  120MG           1   \n",
       "7118  60 CAP | MAGNESIO QUELADO 30%  220MG; SELENIO ...          11   \n",
       "7119  30 CAP | VALERIANA  50MG; PASSIFLORA  500MG; C...           3   \n",
       "7120  60 CAP | ACIDO TRANEXAMICO  200MG; BIOTINA 2.5...           2   \n",
       "\n",
       "      calculado  correto  cap  \\\n",
       "0       47.5297     39.9   30   \n",
       "1       46.9620     43.6   60   \n",
       "2      105.1390    111.4   60   \n",
       "3       49.0314     43.6   60   \n",
       "4      161.8272    146.0  120   \n",
       "...         ...      ...  ...   \n",
       "7116   188.5325    181.8   45   \n",
       "7117   377.6529    346.6  120   \n",
       "7118   166.2868    157.2   60   \n",
       "7119    60.1646     68.1   30   \n",
       "7120   107.0370     95.3   60   \n",
       "\n",
       "                                                    ins  \n",
       "0                          BUPROPIONA CLORIDRATO  150MG  \n",
       "1                                 FINASTERIDA 1:10  1MG  \n",
       "2             NAC  250MG; SILIMARINA  150MG; SAME  50MG  \n",
       "3                               ANASTROZOL 1:10 0.300MG  \n",
       "4                  DUTASTERIDA 0.250MG; TADALAFIL  10MG  \n",
       "...                                                 ...  \n",
       "7116   SERTRALINA CLORIDRATO  40MG; SLENDESTA  75MG;...  \n",
       "7117                                 GREENSELECT  120MG  \n",
       "7118   MAGNESIO QUELADO 30%  220MG; SELENIO QUELADO ...  \n",
       "7119   VALERIANA  50MG; PASSIFLORA  500MG; CAMOMILA ...  \n",
       "7120          ACIDO TRANEXAMICO  200MG; BIOTINA 2.500MG  \n",
       "\n",
       "[7121 rows x 6 columns]"
      ]
     },
     "execution_count": 73,
     "metadata": {},
     "output_type": "execute_result"
    }
   ],
   "source": [
    "df"
   ]
  },
  {
   "cell_type": "code",
   "execution_count": 74,
   "metadata": {},
   "outputs": [
    {
     "name": "stdout",
     "output_type": "stream",
     "text": [
      "Total de insumos:  23370\n"
     ]
    }
   ],
   "source": [
    "print('Total de insumos: ',df.qtdInsumos.sum())"
   ]
  },
  {
   "cell_type": "code",
   "execution_count": 115,
   "metadata": {},
   "outputs": [],
   "source": [
    "\"\"\"  \n",
    "Proporcao em % ou N:N\n",
    "- regex_prop = r'\\d*%|\\d:\\d*'\n",
    "\n",
    "Quantidades\n",
    "- regex_measure = r'(\\d*\\.\\d\\w*$)|(\\d\\w*$)'\n",
    "- regex_measure = r'  [-+]?([0-9]*\\.[0-9]+|[0-9]+)\\w*'\n",
    "\n",
    "- regex_ins = r'([^\\d]+)\\s'\n",
    "\"\"\";"
   ]
  },
  {
   "cell_type": "code",
   "execution_count": 117,
   "metadata": {},
   "outputs": [],
   "source": [
    "quantities = []\n",
    "\n",
    "for itens in df.ins.str.split(';'):\n",
    "    for item in itens:\n",
    "        match = re.search(r'(\\d*\\.\\d\\w*$)|(\\d\\w*$)|(\\d\\w*%$)', item)\n",
    "#         prop = re.search(r'(\\d.\\d*%)|(\\d*%)|(\\d:\\d*)', item)\n",
    "        if match != None:\n",
    "            quantities.append(match.group())\n",
    "        else:\n",
    "            print(item)"
   ]
  },
  {
   "cell_type": "code",
   "execution_count": 154,
   "metadata": {},
   "outputs": [
    {
     "data": {
      "text/plain": [
       "['150MG',\n",
       " '1MG',\n",
       " '250MG',\n",
       " '150MG',\n",
       " '50MG',\n",
       " '0.300MG',\n",
       " '0.250MG',\n",
       " '10MG',\n",
       " '12MCG',\n",
       " '60MCG']"
      ]
     },
     "execution_count": 154,
     "metadata": {},
     "output_type": "execute_result"
    }
   ],
   "source": [
    "quantities[:10]"
   ]
  },
  {
   "cell_type": "markdown",
   "metadata": {},
   "source": [
    "Extração todas as quantidades com unidades de medida"
   ]
  },
  {
   "cell_type": "code",
   "execution_count": 153,
   "metadata": {},
   "outputs": [
    {
     "data": {
      "text/plain": [
       "True"
      ]
     },
     "execution_count": 153,
     "metadata": {},
     "output_type": "execute_result"
    }
   ],
   "source": [
    "#Teste\n",
    "len(quantities) == df.qtdInsumos.sum()"
   ]
  },
  {
   "cell_type": "code",
   "execution_count": 119,
   "metadata": {},
   "outputs": [],
   "source": [
    "units = []\n",
    "for unit in quantities:\n",
    "    match = re.search(r'\\D*$', unit)\n",
    "    units.append(match.group())"
   ]
  },
  {
   "cell_type": "code",
   "execution_count": 124,
   "metadata": {},
   "outputs": [
    {
     "data": {
      "text/plain": [
       "{'%', 'CAP', 'G', 'MCG', 'MG', 'UI', 'UI%', 'UN', 'UTR'}"
      ]
     },
     "execution_count": 124,
     "metadata": {},
     "output_type": "execute_result"
    }
   ],
   "source": [
    "set(units)"
   ]
  },
  {
   "cell_type": "markdown",
   "metadata": {},
   "source": [
    "Estão presentes diferentes unidades de medidas farmacêuticas"
   ]
  },
  {
   "cell_type": "code",
   "execution_count": 152,
   "metadata": {},
   "outputs": [
    {
     "data": {
      "text/plain": [
       "True"
      ]
     },
     "execution_count": 152,
     "metadata": {},
     "output_type": "execute_result"
    }
   ],
   "source": [
    "#Teste\n",
    "len(units) == df.qtdInsumos.sum()"
   ]
  },
  {
   "cell_type": "code",
   "execution_count": 142,
   "metadata": {},
   "outputs": [],
   "source": [
    "supplies =[]\n",
    "for itens in df.ins.str.split(';'):\n",
    "    for item in itens:\n",
    "#         print(item, ' ->  ', end='')\n",
    "        match = re.findall(r'([a-zA-Z_][-a-zA-Z0-9_]*)\\s', item)\n",
    "#         print(' '.join(match))\n",
    "        supplies.append(' '.join(match))"
   ]
  },
  {
   "cell_type": "code",
   "execution_count": 144,
   "metadata": {},
   "outputs": [
    {
     "data": {
      "text/plain": [
       "True"
      ]
     },
     "execution_count": 144,
     "metadata": {},
     "output_type": "execute_result"
    }
   ],
   "source": [
    "len(supplies) == df.qtdInsumos.sum()"
   ]
  },
  {
   "cell_type": "code",
   "execution_count": 149,
   "metadata": {},
   "outputs": [
    {
     "data": {
      "text/plain": [
       "[('ZINCO QUELADO', 462),\n",
       " ('VITAMINA D3', 369),\n",
       " ('VITAMINA K2 MK7', 336),\n",
       " ('SELENIO QUELADO', 320),\n",
       " ('BIOTINA', 314),\n",
       " ('METILFOLATO', 307),\n",
       " ('VITAMINA D', 293),\n",
       " ('MAGNESIO DIMALATO', 288),\n",
       " ('VITAMINA D LIQ CAP ATE MIL', 277),\n",
       " ('METILCOBALAMINA', 276)]"
      ]
     },
     "execution_count": 149,
     "metadata": {},
     "output_type": "execute_result"
    }
   ],
   "source": [
    "dict(Counter(supplies))\n",
    "\n",
    "sort_orders = sorted(dict(Counter(insums)).items(), key=lambda x: x[1], reverse=True);\n",
    "sort_orders[:10]"
   ]
  },
  {
   "cell_type": "markdown",
   "metadata": {},
   "source": [
    "Extração dos insumos"
   ]
  },
  {
   "cell_type": "code",
   "execution_count": 160,
   "metadata": {},
   "outputs": [
    {
     "data": {
      "text/plain": [
       "' VITAMINA B6  50MG; METILCOBALAMINA 1:100  400MCG; VITAMINA A  500UI; VITAMINA C  500MG; VITAMINA D  3000UI; VITAMINA E  100UI; VITAMINA K2 MK7 62.500MCG; TIAMINA  25MG; RIBOFLAVINA  15MG; NIACINAMIDA  25MG; METILFOLATO 1:10  400MCG; BIOTINA  200MCG; ACIDO PANTOTENICO  150MG; MAGNESIO DIMALATO  300MG; ZINCO QUELADO  3MG; SELENIO QUELADO  100MCG; COBRE QUELADO 0.300MG; MANGANES QUELADO  2MG; CROMO QUELADO  200MCG; MOLIBDENIO QUELADO  25MCG; BITARTARATO COLINA  50MG; INOSITOL  50MG; TOCOTRIENOIS  100MG; RUTINA  25MG; BORO QUELADO 1.500MG; VANADIO QUELADO  100MCG'"
      ]
     },
     "execution_count": 160,
     "metadata": {},
     "output_type": "execute_result"
    }
   ],
   "source": [
    "df[df.qtdInsumos == df.qtdInsumos.max()].ins[1205]"
   ]
  },
  {
   "cell_type": "code",
   "execution_count": null,
   "metadata": {},
   "outputs": [],
   "source": []
  },
  {
   "cell_type": "code",
   "execution_count": null,
   "metadata": {},
   "outputs": [],
   "source": []
  },
  {
   "cell_type": "code",
   "execution_count": null,
   "metadata": {},
   "outputs": [],
   "source": []
  },
  {
   "cell_type": "code",
   "execution_count": null,
   "metadata": {},
   "outputs": [],
   "source": []
  },
  {
   "cell_type": "code",
   "execution_count": null,
   "metadata": {},
   "outputs": [],
   "source": []
  },
  {
   "cell_type": "code",
   "execution_count": null,
   "metadata": {},
   "outputs": [],
   "source": []
  }
 ],
 "metadata": {
  "kernelspec": {
   "display_name": "Python 3",
   "language": "python",
   "name": "python3"
  },
  "language_info": {
   "codemirror_mode": {
    "name": "ipython",
    "version": 3
   },
   "file_extension": ".py",
   "mimetype": "text/x-python",
   "name": "python",
   "nbconvert_exporter": "python",
   "pygments_lexer": "ipython3",
   "version": "3.7.6"
  }
 },
 "nbformat": 4,
 "nbformat_minor": 4
}
